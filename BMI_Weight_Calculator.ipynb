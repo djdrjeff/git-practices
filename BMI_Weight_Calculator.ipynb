{
 "cells": [
  {
   "cell_type": "markdown",
   "metadata": {},
   "source": [
    "## BMI CALCULATOR"
   ]
  },
  {
   "cell_type": "code",
   "execution_count": 1,
   "metadata": {},
   "outputs": [
    {
     "name": "stdout",
     "output_type": "stream",
     "text": [
      "Hello kelvin. Welcome to our BMI System Calculator\n"
     ]
    }
   ],
   "source": [
    "## BMI CALCULATOR\n",
    "\n",
    "name = input (\" Whats your name \")\n",
    "print(f\"Hello {name}. Welcome to our BMI System Calculator\")\n"
   ]
  },
  {
   "cell_type": "code",
   "execution_count": 2,
   "metadata": {},
   "outputs": [
    {
     "name": "stdout",
     "output_type": "stream",
     "text": [
      "Provide us with the information below:\n",
      "=====BMI RESULTS====\n",
      "Your BMI is 42.10526315789474\n",
      "You are overweight\n"
     ]
    }
   ],
   "source": [
    "print (\"Provide us with the information below:\")\n",
    "weight = float (input(\"Enter your weight: Kgs \"))\n",
    "height = float (input (\"Enter your height: Metres \"))\n",
    "\n",
    "BMI = weight/height\n",
    "\n",
    "print(\"=====BMI RESULTS====\")\n",
    "print(f\"Your BMI is {BMI}\")\n",
    "\n",
    "if BMI > 25:\n",
    "    print(\"You are overweight\")\n",
    "elif BMI <18:\n",
    "    print(\"You are underweight\")\n",
    "else:\n",
    "    print(\"You have a normal weight\")\n"
   ]
  }
 ],
 "metadata": {
  "kernelspec": {
   "display_name": "learn-env",
   "language": "python",
   "name": "python3"
  },
  "language_info": {
   "codemirror_mode": {
    "name": "ipython",
    "version": 3
   },
   "file_extension": ".py",
   "mimetype": "text/x-python",
   "name": "python",
   "nbconvert_exporter": "python",
   "pygments_lexer": "ipython3",
   "version": "3.8.5"
  }
 },
 "nbformat": 4,
 "nbformat_minor": 2
}
